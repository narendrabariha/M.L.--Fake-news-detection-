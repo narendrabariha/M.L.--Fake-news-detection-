{
 "cells": [
  {
   "cell_type": "code",
   "execution_count": 38,
   "id": "57d6f582",
   "metadata": {},
   "outputs": [],
   "source": [
    "import pandas as pd\n",
    "import re\n",
    "import seaborn as sns\n",
    "import matplotlib.pyplot as plt\n",
    "from wordcloud import WordCloud\n",
    "from sklearn.feature_extraction.text import TfidfVectorizer\n",
    "from sklearn.linear_model import LogisticRegression\n",
    "from sklearn.metrics import accuracy_score, classification_report"
   ]
  },
  {
   "cell_type": "code",
   "execution_count": 39,
   "id": "b4f4c786",
   "metadata": {},
   "outputs": [],
   "source": [
    "train_df = pd.read_csv(r\"E:\\CodeBasic & Others\\Fake new detection\\train.csv\")\n",
    "valid_df = pd.read_csv(r\"E:\\CodeBasic & Others\\Fake new detection\\valid.csv\")\n",
    "test_df = pd.read_csv(r\"E:\\CodeBasic & Others\\Fake new detection\\test.csv\")\n"
   ]
  },
  {
   "cell_type": "code",
   "execution_count": 40,
   "id": "c306b209",
   "metadata": {},
   "outputs": [
    {
     "data": {
      "text/html": [
       "<div>\n",
       "<style scoped>\n",
       "    .dataframe tbody tr th:only-of-type {\n",
       "        vertical-align: middle;\n",
       "    }\n",
       "\n",
       "    .dataframe tbody tr th {\n",
       "        vertical-align: top;\n",
       "    }\n",
       "\n",
       "    .dataframe thead th {\n",
       "        text-align: right;\n",
       "    }\n",
       "</style>\n",
       "<table border=\"1\" class=\"dataframe\">\n",
       "  <thead>\n",
       "    <tr style=\"text-align: right;\">\n",
       "      <th></th>\n",
       "      <th>title</th>\n",
       "      <th>text</th>\n",
       "      <th>year_month</th>\n",
       "      <th>labels</th>\n",
       "    </tr>\n",
       "  </thead>\n",
       "  <tbody>\n",
       "    <tr>\n",
       "      <th>0</th>\n",
       "      <td>Denying feud over Russia hacking, Trump vows s...</td>\n",
       "      <td>langley va. washington u. s. president donald ...</td>\n",
       "      <td>2017-01</td>\n",
       "      <td>true</td>\n",
       "    </tr>\n",
       "    <tr>\n",
       "      <th>1</th>\n",
       "      <td>Obama Calls To Comfort A Murdered Lawmaker’s ...</td>\n",
       "      <td>picture someone decides one leaders traitor su...</td>\n",
       "      <td>2016-06</td>\n",
       "      <td>fake</td>\n",
       "    </tr>\n",
       "    <tr>\n",
       "      <th>2</th>\n",
       "      <td>Cost of modernizing U.S. nuclear weapons to fa...</td>\n",
       "      <td>minot air force base n. d. flat windy expanse ...</td>\n",
       "      <td>2016-09</td>\n",
       "      <td>true</td>\n",
       "    </tr>\n",
       "    <tr>\n",
       "      <th>3</th>\n",
       "      <td>THE MOMENT FBI Director James Comey Lost All C...</td>\n",
       "      <td>hillary clinton dogged throughout campaign dec...</td>\n",
       "      <td>2017-05</td>\n",
       "      <td>fake</td>\n",
       "    </tr>\n",
       "    <tr>\n",
       "      <th>4</th>\n",
       "      <td>Racist Florida Woman Tells Black People ‘You ...</td>\n",
       "      <td>racist white woman florida surely furious afri...</td>\n",
       "      <td>2016-08</td>\n",
       "      <td>fake</td>\n",
       "    </tr>\n",
       "    <tr>\n",
       "      <th>...</th>\n",
       "      <td>...</td>\n",
       "      <td>...</td>\n",
       "      <td>...</td>\n",
       "      <td>...</td>\n",
       "    </tr>\n",
       "    <tr>\n",
       "      <th>21522</th>\n",
       "      <td>Hyatt heir Pritzker opens Democratic bid to un...</td>\n",
       "      <td>chicago billionaire investor j. b. pritzker he...</td>\n",
       "      <td>2017-04</td>\n",
       "      <td>true</td>\n",
       "    </tr>\n",
       "    <tr>\n",
       "      <th>21523</th>\n",
       "      <td>New Hampshire to test broader appeal of Cruz's...</td>\n",
       "      <td>henniker new hampshire republican presidential...</td>\n",
       "      <td>2016-02</td>\n",
       "      <td>true</td>\n",
       "    </tr>\n",
       "    <tr>\n",
       "      <th>21524</th>\n",
       "      <td>Trevor Noah Asks Debbie Wasserman-Schultz If ...</td>\n",
       "      <td>democratic national committee dnc chairwoman d...</td>\n",
       "      <td>2016-04</td>\n",
       "      <td>fake</td>\n",
       "    </tr>\n",
       "    <tr>\n",
       "      <th>21525</th>\n",
       "      <td>HILLARY TRIES TO INJECT Social Class And Race ...</td>\n",
       "      <td>maybe hillary hiring someone handle social med...</td>\n",
       "      <td>2016-02</td>\n",
       "      <td>fake</td>\n",
       "    </tr>\n",
       "    <tr>\n",
       "      <th>21526</th>\n",
       "      <td>Trump tax plan faces rockier road after bruisi...</td>\n",
       "      <td>washington white house take lead role crafting...</td>\n",
       "      <td>2017-03</td>\n",
       "      <td>true</td>\n",
       "    </tr>\n",
       "  </tbody>\n",
       "</table>\n",
       "<p>21527 rows × 4 columns</p>\n",
       "</div>"
      ],
      "text/plain": [
       "                                                   title  \\\n",
       "0      Denying feud over Russia hacking, Trump vows s...   \n",
       "1       Obama Calls To Comfort A Murdered Lawmaker’s ...   \n",
       "2      Cost of modernizing U.S. nuclear weapons to fa...   \n",
       "3      THE MOMENT FBI Director James Comey Lost All C...   \n",
       "4       Racist Florida Woman Tells Black People ‘You ...   \n",
       "...                                                  ...   \n",
       "21522  Hyatt heir Pritzker opens Democratic bid to un...   \n",
       "21523  New Hampshire to test broader appeal of Cruz's...   \n",
       "21524   Trevor Noah Asks Debbie Wasserman-Schultz If ...   \n",
       "21525  HILLARY TRIES TO INJECT Social Class And Race ...   \n",
       "21526  Trump tax plan faces rockier road after bruisi...   \n",
       "\n",
       "                                                    text year_month labels  \n",
       "0      langley va. washington u. s. president donald ...    2017-01   true  \n",
       "1      picture someone decides one leaders traitor su...    2016-06   fake  \n",
       "2      minot air force base n. d. flat windy expanse ...    2016-09   true  \n",
       "3      hillary clinton dogged throughout campaign dec...    2017-05   fake  \n",
       "4      racist white woman florida surely furious afri...    2016-08   fake  \n",
       "...                                                  ...        ...    ...  \n",
       "21522  chicago billionaire investor j. b. pritzker he...    2017-04   true  \n",
       "21523  henniker new hampshire republican presidential...    2016-02   true  \n",
       "21524  democratic national committee dnc chairwoman d...    2016-04   fake  \n",
       "21525  maybe hillary hiring someone handle social med...    2016-02   fake  \n",
       "21526  washington white house take lead role crafting...    2017-03   true  \n",
       "\n",
       "[21527 rows x 4 columns]"
      ]
     },
     "execution_count": 40,
     "metadata": {},
     "output_type": "execute_result"
    }
   ],
   "source": [
    "train_df"
   ]
  },
  {
   "cell_type": "code",
   "execution_count": 41,
   "id": "89bd8b8e",
   "metadata": {},
   "outputs": [
    {
     "data": {
      "text/html": [
       "<div>\n",
       "<style scoped>\n",
       "    .dataframe tbody tr th:only-of-type {\n",
       "        vertical-align: middle;\n",
       "    }\n",
       "\n",
       "    .dataframe tbody tr th {\n",
       "        vertical-align: top;\n",
       "    }\n",
       "\n",
       "    .dataframe thead th {\n",
       "        text-align: right;\n",
       "    }\n",
       "</style>\n",
       "<table border=\"1\" class=\"dataframe\">\n",
       "  <thead>\n",
       "    <tr style=\"text-align: right;\">\n",
       "      <th></th>\n",
       "      <th>title</th>\n",
       "      <th>text</th>\n",
       "      <th>year_month</th>\n",
       "      <th>labels</th>\n",
       "    </tr>\n",
       "  </thead>\n",
       "  <tbody>\n",
       "    <tr>\n",
       "      <th>0</th>\n",
       "      <td>U.S. national monument review to test key land...</td>\n",
       "      <td>washington u. s. interior secretary ryan zinke...</td>\n",
       "      <td>2017-08</td>\n",
       "      <td>true</td>\n",
       "    </tr>\n",
       "    <tr>\n",
       "      <th>1</th>\n",
       "      <td>Kushner met with special counsel Mueller in Ru...</td>\n",
       "      <td>washington u. s. president donald trumps sonin...</td>\n",
       "      <td>2017-11</td>\n",
       "      <td>true</td>\n",
       "    </tr>\n",
       "    <tr>\n",
       "      <th>2</th>\n",
       "      <td>Sen. Cotton’s Intern Caught On Tape Calling B...</td>\n",
       "      <td>hey justin another title told one goes far. ho...</td>\n",
       "      <td>2017-06</td>\n",
       "      <td>fake</td>\n",
       "    </tr>\n",
       "    <tr>\n",
       "      <th>3</th>\n",
       "      <td>Honduras opposition proposes election recount ...</td>\n",
       "      <td>tegucigalpa honduran opposition battling presi...</td>\n",
       "      <td>2017-12</td>\n",
       "      <td>true</td>\n",
       "    </tr>\n",
       "    <tr>\n",
       "      <th>4</th>\n",
       "      <td>Hope evaporating, a grim wait for relatives af...</td>\n",
       "      <td>mexico city relatives waiting wednesday outsid...</td>\n",
       "      <td>2017-09</td>\n",
       "      <td>true</td>\n",
       "    </tr>\n",
       "    <tr>\n",
       "      <th>...</th>\n",
       "      <td>...</td>\n",
       "      <td>...</td>\n",
       "      <td>...</td>\n",
       "      <td>...</td>\n",
       "    </tr>\n",
       "    <tr>\n",
       "      <th>8372</th>\n",
       "      <td>Palestinian cabinet convenes in Gaza in move t...</td>\n",
       "      <td>gaza prime minister rami alhamdallah chaired f...</td>\n",
       "      <td>2017-10</td>\n",
       "      <td>true</td>\n",
       "    </tr>\n",
       "    <tr>\n",
       "      <th>8373</th>\n",
       "      <td>UAE law targets sexual harassment, forced labor</td>\n",
       "      <td>dubai united arab emirates criticized globally...</td>\n",
       "      <td>2017-09</td>\n",
       "      <td>true</td>\n",
       "    </tr>\n",
       "    <tr>\n",
       "      <th>8374</th>\n",
       "      <td>Japan's Osaka to snap sister city link with Sa...</td>\n",
       "      <td>tokyo mayor japan western city osaka plans cut...</td>\n",
       "      <td>2017-11</td>\n",
       "      <td>true</td>\n",
       "    </tr>\n",
       "    <tr>\n",
       "      <th>8375</th>\n",
       "      <td>British PM May meets Iraqi PM Abadi in Baghdad</td>\n",
       "      <td>baghdad british prime minister theresa may met...</td>\n",
       "      <td>2017-11</td>\n",
       "      <td>true</td>\n",
       "    </tr>\n",
       "    <tr>\n",
       "      <th>8376</th>\n",
       "      <td>BOMBSHELL REPORT: GOP Looks To Dump Trump, Se...</td>\n",
       "      <td>secret republican party never comfortable dona...</td>\n",
       "      <td>2017-08</td>\n",
       "      <td>fake</td>\n",
       "    </tr>\n",
       "  </tbody>\n",
       "</table>\n",
       "<p>8377 rows × 4 columns</p>\n",
       "</div>"
      ],
      "text/plain": [
       "                                                  title  \\\n",
       "0     U.S. national monument review to test key land...   \n",
       "1     Kushner met with special counsel Mueller in Ru...   \n",
       "2      Sen. Cotton’s Intern Caught On Tape Calling B...   \n",
       "3     Honduras opposition proposes election recount ...   \n",
       "4     Hope evaporating, a grim wait for relatives af...   \n",
       "...                                                 ...   \n",
       "8372  Palestinian cabinet convenes in Gaza in move t...   \n",
       "8373    UAE law targets sexual harassment, forced labor   \n",
       "8374  Japan's Osaka to snap sister city link with Sa...   \n",
       "8375     British PM May meets Iraqi PM Abadi in Baghdad   \n",
       "8376   BOMBSHELL REPORT: GOP Looks To Dump Trump, Se...   \n",
       "\n",
       "                                                   text year_month labels  \n",
       "0     washington u. s. interior secretary ryan zinke...    2017-08   true  \n",
       "1     washington u. s. president donald trumps sonin...    2017-11   true  \n",
       "2     hey justin another title told one goes far. ho...    2017-06   fake  \n",
       "3     tegucigalpa honduran opposition battling presi...    2017-12   true  \n",
       "4     mexico city relatives waiting wednesday outsid...    2017-09   true  \n",
       "...                                                 ...        ...    ...  \n",
       "8372  gaza prime minister rami alhamdallah chaired f...    2017-10   true  \n",
       "8373  dubai united arab emirates criticized globally...    2017-09   true  \n",
       "8374  tokyo mayor japan western city osaka plans cut...    2017-11   true  \n",
       "8375  baghdad british prime minister theresa may met...    2017-11   true  \n",
       "8376  secret republican party never comfortable dona...    2017-08   fake  \n",
       "\n",
       "[8377 rows x 4 columns]"
      ]
     },
     "execution_count": 41,
     "metadata": {},
     "output_type": "execute_result"
    }
   ],
   "source": [
    "valid_df"
   ]
  },
  {
   "cell_type": "code",
   "execution_count": 42,
   "id": "e348a893",
   "metadata": {},
   "outputs": [
    {
     "data": {
      "text/html": [
       "<div>\n",
       "<style scoped>\n",
       "    .dataframe tbody tr th:only-of-type {\n",
       "        vertical-align: middle;\n",
       "    }\n",
       "\n",
       "    .dataframe tbody tr th {\n",
       "        vertical-align: top;\n",
       "    }\n",
       "\n",
       "    .dataframe thead th {\n",
       "        text-align: right;\n",
       "    }\n",
       "</style>\n",
       "<table border=\"1\" class=\"dataframe\">\n",
       "  <thead>\n",
       "    <tr style=\"text-align: right;\">\n",
       "      <th></th>\n",
       "      <th>title</th>\n",
       "      <th>text</th>\n",
       "      <th>year_month</th>\n",
       "      <th>labels</th>\n",
       "    </tr>\n",
       "  </thead>\n",
       "  <tbody>\n",
       "    <tr>\n",
       "      <th>0</th>\n",
       "      <td>Disapproval rating for Japan PM Abe exceeds su...</td>\n",
       "      <td>tokyo disapproval rating japanese prime minist...</td>\n",
       "      <td>2017-10</td>\n",
       "      <td>true</td>\n",
       "    </tr>\n",
       "    <tr>\n",
       "      <th>1</th>\n",
       "      <td>Virginia officials postpone lottery drawing to...</td>\n",
       "      <td>lottery drawing settle tied virginia legislati...</td>\n",
       "      <td>2017-12</td>\n",
       "      <td>true</td>\n",
       "    </tr>\n",
       "    <tr>\n",
       "      <th>2</th>\n",
       "      <td>Trump administration issues new rules on U.S. ...</td>\n",
       "      <td>washington trump administration put new requir...</td>\n",
       "      <td>2017-12</td>\n",
       "      <td>true</td>\n",
       "    </tr>\n",
       "    <tr>\n",
       "      <th>3</th>\n",
       "      <td>Trump administration taps coal consultant for ...</td>\n",
       "      <td>washington trump administration thursday named...</td>\n",
       "      <td>2017-10</td>\n",
       "      <td>true</td>\n",
       "    </tr>\n",
       "    <tr>\n",
       "      <th>4</th>\n",
       "      <td>Clashes in Rome as police evict refugee squatt...</td>\n",
       "      <td>rome police using water cannon batons clashed ...</td>\n",
       "      <td>2017-08</td>\n",
       "      <td>true</td>\n",
       "    </tr>\n",
       "    <tr>\n",
       "      <th>...</th>\n",
       "      <td>...</td>\n",
       "      <td>...</td>\n",
       "      <td>...</td>\n",
       "      <td>...</td>\n",
       "    </tr>\n",
       "    <tr>\n",
       "      <th>8373</th>\n",
       "      <td>Investors see shades of Quebec in Catalonia vote</td>\n",
       "      <td>removes erroneous reference montreal quebec ca...</td>\n",
       "      <td>2017-12</td>\n",
       "      <td>true</td>\n",
       "    </tr>\n",
       "    <tr>\n",
       "      <th>8374</th>\n",
       "      <td>Ukraine rebel leader accuses sacked ally of st...</td>\n",
       "      <td>moscowkiev armed men masks blocked center ukra...</td>\n",
       "      <td>2017-11</td>\n",
       "      <td>true</td>\n",
       "    </tr>\n",
       "    <tr>\n",
       "      <th>8375</th>\n",
       "      <td>Gov. Cuomo Defends Not Endorsing Mayor de Blas...</td>\n",
       "      <td>ny governor andrew cuomo made two shocking ann...</td>\n",
       "      <td>2017-09</td>\n",
       "      <td>fake</td>\n",
       "    </tr>\n",
       "    <tr>\n",
       "      <th>8376</th>\n",
       "      <td>John Anderson, liberal Republican who challeng...</td>\n",
       "      <td>washington john anderson former republican con...</td>\n",
       "      <td>2017-12</td>\n",
       "      <td>true</td>\n",
       "    </tr>\n",
       "    <tr>\n",
       "      <th>8377</th>\n",
       "      <td>Assad adviser says rebels must lay down arms: ...</td>\n",
       "      <td>beirut russia planned peace talks among syrian...</td>\n",
       "      <td>2017-11</td>\n",
       "      <td>true</td>\n",
       "    </tr>\n",
       "  </tbody>\n",
       "</table>\n",
       "<p>8378 rows × 4 columns</p>\n",
       "</div>"
      ],
      "text/plain": [
       "                                                  title  \\\n",
       "0     Disapproval rating for Japan PM Abe exceeds su...   \n",
       "1     Virginia officials postpone lottery drawing to...   \n",
       "2     Trump administration issues new rules on U.S. ...   \n",
       "3     Trump administration taps coal consultant for ...   \n",
       "4     Clashes in Rome as police evict refugee squatt...   \n",
       "...                                                 ...   \n",
       "8373   Investors see shades of Quebec in Catalonia vote   \n",
       "8374  Ukraine rebel leader accuses sacked ally of st...   \n",
       "8375  Gov. Cuomo Defends Not Endorsing Mayor de Blas...   \n",
       "8376  John Anderson, liberal Republican who challeng...   \n",
       "8377  Assad adviser says rebels must lay down arms: ...   \n",
       "\n",
       "                                                   text year_month labels  \n",
       "0     tokyo disapproval rating japanese prime minist...    2017-10   true  \n",
       "1     lottery drawing settle tied virginia legislati...    2017-12   true  \n",
       "2     washington trump administration put new requir...    2017-12   true  \n",
       "3     washington trump administration thursday named...    2017-10   true  \n",
       "4     rome police using water cannon batons clashed ...    2017-08   true  \n",
       "...                                                 ...        ...    ...  \n",
       "8373  removes erroneous reference montreal quebec ca...    2017-12   true  \n",
       "8374  moscowkiev armed men masks blocked center ukra...    2017-11   true  \n",
       "8375  ny governor andrew cuomo made two shocking ann...    2017-09   fake  \n",
       "8376  washington john anderson former republican con...    2017-12   true  \n",
       "8377  beirut russia planned peace talks among syrian...    2017-11   true  \n",
       "\n",
       "[8378 rows x 4 columns]"
      ]
     },
     "execution_count": 42,
     "metadata": {},
     "output_type": "execute_result"
    }
   ],
   "source": [
    "test_df"
   ]
  },
  {
   "cell_type": "code",
   "execution_count": 43,
   "id": "856634a9",
   "metadata": {},
   "outputs": [
    {
     "name": "stdout",
     "output_type": "stream",
     "text": [
      "Train shape: (21527, 4)\n",
      "Validation shape: (8377, 4)\n",
      "Test shape: (8378, 4)\n"
     ]
    }
   ],
   "source": [
    "print(\"Train shape:\", train_df.shape)\n",
    "print(\"Validation shape:\", valid_df.shape)\n",
    "print(\"Test shape:\", test_df.shape)\n",
    "\n"
   ]
  },
  {
   "cell_type": "code",
   "execution_count": 44,
   "id": "7048ae5b",
   "metadata": {},
   "outputs": [
    {
     "name": "stdout",
     "output_type": "stream",
     "text": [
      "title         0\n",
      "text          0\n",
      "year_month    0\n",
      "labels        0\n",
      "dtype: int64\n"
     ]
    }
   ],
   "source": [
    "print(train_df.isnull().sum())\n"
   ]
  },
  {
   "cell_type": "code",
   "execution_count": 45,
   "id": "88d60ded",
   "metadata": {},
   "outputs": [
    {
     "name": "stdout",
     "output_type": "stream",
     "text": [
      "title         0\n",
      "text          0\n",
      "year_month    0\n",
      "labels        0\n",
      "dtype: int64\n",
      "title         0\n",
      "text          0\n",
      "year_month    0\n",
      "labels        0\n",
      "dtype: int64\n",
      "title         0\n",
      "text          0\n",
      "year_month    0\n",
      "labels        0\n",
      "dtype: int64\n"
     ]
    }
   ],
   "source": [
    "print(train_df.isnull().sum())\n",
    "print(valid_df.isnull().sum())\n",
    "print(test_df.isnull().sum())\n"
   ]
  },
  {
   "cell_type": "code",
   "execution_count": 46,
   "id": "d54c91d8",
   "metadata": {},
   "outputs": [
    {
     "name": "stdout",
     "output_type": "stream",
     "text": [
      "<class 'pandas.core.frame.DataFrame'>\n",
      "RangeIndex: 21527 entries, 0 to 21526\n",
      "Data columns (total 4 columns):\n",
      " #   Column      Non-Null Count  Dtype \n",
      "---  ------      --------------  ----- \n",
      " 0   title       21527 non-null  object\n",
      " 1   text        21527 non-null  object\n",
      " 2   year_month  21527 non-null  object\n",
      " 3   labels      21527 non-null  object\n",
      "dtypes: object(4)\n",
      "memory usage: 672.8+ KB\n",
      "None\n"
     ]
    }
   ],
   "source": [
    "print(train_df.info())"
   ]
  },
  {
   "cell_type": "code",
   "execution_count": 47,
   "id": "2e7a431f",
   "metadata": {},
   "outputs": [
    {
     "name": "stdout",
     "output_type": "stream",
     "text": [
      "Index(['title', 'text', 'year_month', 'labels'], dtype='object')\n",
      "labels\n",
      "fake    13781\n",
      "true     7746\n",
      "Name: count, dtype: int64\n"
     ]
    }
   ],
   "source": [
    "print(train_df.columns)\n",
    "print(train_df['labels'].value_counts())"
   ]
  },
  {
   "cell_type": "code",
   "execution_count": 48,
   "id": "538ae92a",
   "metadata": {},
   "outputs": [
    {
     "data": {
      "image/png": "[encoded data removed]",
      "text/plain": [
       "<Figure size 640x480 with 1 Axes>"
      ]
     },
     "metadata": {},
     "output_type": "display_data"
    },
    {
     "name": "stdout",
     "output_type": "stream",
     "text": [
      "labels\n",
      "fake    13781\n",
      "true     7746\n",
      "Name: count, dtype: int64\n"
     ]
    }
   ],
   "source": [
    "# Plot class distribution\n",
    "sns.countplot(x='labels', data=train_df)\n",
    "plt.title('Label Distribution')\n",
    "plt.show()\n",
    "\n",
    "# Check balance\n",
    "print(train_df['labels'].value_counts())\n"
   ]
  },
  {
   "cell_type": "code",
   "execution_count": 49,
   "id": "07f4fa0b",
   "metadata": {},
   "outputs": [
    {
     "data": {
      "image/png": "[encoded data removed]",
      "text/plain": [
       "<Figure size 640x480 with 1 Axes>"
      ]
     },
     "metadata": {},
     "output_type": "display_data"
    }
   ],
   "source": [
    "sns.countplot(x='labels', data=train_df)\n",
    "plt.title(\"Label Distribution\")\n",
    "plt.show()"
   ]
  },
  {
   "cell_type": "code",
   "execution_count": 50,
   "id": "8c31dd95",
   "metadata": {},
   "outputs": [
    {
     "name": "stderr",
     "output_type": "stream",
     "text": [
      "C:\\Users\\Hp\\anaconda3\\lib\\site-packages\\seaborn\\_oldcore.py:1119: FutureWarning: use_inf_as_na option is deprecated and will be removed in a future version. Convert inf values to NaN before operating instead.\n",
      "  with pd.option_context('mode.use_inf_as_na', True):\n"
     ]
    },
    {
     "data": {
      "image/png": "[encoded data removed]",
      "text/plain": [
       "<Figure size 1000x200 with 1 Axes>"
      ]
     },
     "metadata": {},
     "output_type": "display_data"
    }
   ],
   "source": [
    "train_df['text_length'] = train_df['text'].apply(len)\n",
    "\n",
    "plt.figure(figsize=(10, 2))\n",
    "sns.histplot(train_df['text_length'], bins=50, kde=True)\n",
    "plt.title(\"Distribution of Text Length\")\n",
    "plt.show()\n"
   ]
  },
  {
   "cell_type": "code",
   "execution_count": 51,
   "id": "8e58a150",
   "metadata": {},
   "outputs": [
    {
     "name": "stderr",
     "output_type": "stream",
     "text": [
      "C:\\Users\\Hp\\anaconda3\\lib\\site-packages\\seaborn\\_oldcore.py:1119: FutureWarning: use_inf_as_na option is deprecated and will be removed in a future version. Convert inf values to NaN before operating instead.\n",
      "  with pd.option_context('mode.use_inf_as_na', True):\n",
      "C:\\Users\\Hp\\anaconda3\\lib\\site-packages\\seaborn\\_oldcore.py:1119: FutureWarning: use_inf_as_na option is deprecated and will be removed in a future version. Convert inf values to NaN before operating instead.\n",
      "  with pd.option_context('mode.use_inf_as_na', True):\n"
     ]
    },
    {
     "data": {
      "image/png": "[encoded data removed]",
      "text/plain": [
       "<Figure size 1200x600 with 1 Axes>"
      ]
     },
     "metadata": {},
     "output_type": "display_data"
    }
   ],
   "source": [
    "# Text length distribution\n",
    "train_df['title_length'] = train_df['title'].apply(len)\n",
    "train_df['text_length'] = train_df['text'].apply(len)\n",
    "\n",
    "# Plotting the lengths\n",
    "plt.figure(figsize=(12, 6))\n",
    "sns.histplot(train_df['title_length'], kde=True, color='blue', label='Title Length')\n",
    "sns.histplot(train_df['text_length'], kde=True, color='orange', label='Text Length')\n",
    "plt.legend()\n",
    "plt.title('Distribution of Title and Text Lengths')\n",
    "plt.show()\n"
   ]
  },
  {
   "cell_type": "code",
   "execution_count": 52,
   "id": "a5f3cdeb",
   "metadata": {},
   "outputs": [
    {
     "name": "stderr",
     "output_type": "stream",
     "text": [
      "C:\\Users\\Hp\\anaconda3\\lib\\site-packages\\seaborn\\_oldcore.py:1119: FutureWarning: use_inf_as_na option is deprecated and will be removed in a future version. Convert inf values to NaN before operating instead.\n",
      "  with pd.option_context('mode.use_inf_as_na', True):\n"
     ]
    },
    {
     "data": {
      "image/png": "[encoded data removed]",
      "text/plain": [
       "<Figure size 640x480 with 1 Axes>"
      ]
     },
     "metadata": {},
     "output_type": "display_data"
    }
   ],
   "source": [
    "train_df['text_length'] = train_df['text'].apply(lambda x: len(str(x).split()))\n",
    "\n",
    "sns.histplot(data=train_df, x='text_length', hue='labels', bins=50, kde=True)\n",
    "plt.title('Text Length Distribution by Label')\n",
    "plt.show()\n"
   ]
  },
  {
   "cell_type": "code",
   "execution_count": 53,
   "id": "49f6a52c",
   "metadata": {},
   "outputs": [
    {
     "data": {
      "text/plain": [
       "<Axes: xlabel='labels'>"
      ]
     },
     "execution_count": 53,
     "metadata": {},
     "output_type": "execute_result"
    },
    {
     "data": {
      "image/png": "[encoded data removed]",
      "text/plain": [
       "<Figure size 640x480 with 1 Axes>"
      ]
     },
     "metadata": {},
     "output_type": "display_data"
    }
   ],
   "source": [
    "eda_df = pd.concat([train_df, valid_df], axis=0)\n",
    "eda_df['labels'].value_counts().plot(kind='bar')\n"
   ]
  },
  {
   "cell_type": "code",
   "execution_count": 54,
   "id": "ec777bdd",
   "metadata": {},
   "outputs": [],
   "source": [
    "from sklearn.preprocessing import LabelEncoder\n",
    "\n",
    "le = LabelEncoder()\n",
    "train_df['labels'] = le.fit_transform(train_df['labels'])\n",
    "valid_df['labels'] = le.transform(valid_df['labels'])\n",
    "test_df['labels'] = le.transform(test_df['labels'])\n"
   ]
  },
  {
   "cell_type": "code",
   "execution_count": 55,
   "id": "3a7178af",
   "metadata": {},
   "outputs": [],
   "source": [
    "from sklearn.feature_extraction.text import TfidfVectorizer\n",
    "\n",
    "vectorizer = TfidfVectorizer(stop_words='english', max_features=5000)\n",
    "\n",
    "X_train = vectorizer.fit_transform(train_df['text'])\n",
    "X_valid = vectorizer.transform(valid_df['text'])\n",
    "X_test = vectorizer.transform(test_df['text'])\n",
    "\n",
    "y_train = train_df['labels']\n",
    "y_valid = valid_df['labels']\n",
    "y_test = test_df['labels']\n"
   ]
  },
  {
   "cell_type": "code",
   "execution_count": null,
   "id": "a6c4b36b",
   "metadata": {},
   "outputs": [],
   "source": []
  },
  {
   "cell_type": "code",
   "execution_count": 56,
   "id": "acb13997",
   "metadata": {},
   "outputs": [
    {
     "name": "stdout",
     "output_type": "stream",
     "text": [
      "Validation Accuracy: 0.7858\n",
      "Test Accuracy: 0.7841\n",
      "\n",
      "Classification Report on Test Data:\n",
      "              precision    recall  f1-score   support\n",
      "\n",
      "           0       0.48      0.98      0.64      1655\n",
      "           1       0.99      0.73      0.85      6723\n",
      "\n",
      "    accuracy                           0.78      8378\n",
      "   macro avg       0.74      0.86      0.74      8378\n",
      "weighted avg       0.89      0.78      0.81      8378\n",
      "\n",
      "\n",
      "Confusion Matrix on Test Data:\n",
      "[[1630   25]\n",
      " [1784 4939]]\n"
     ]
    }
   ],
   "source": [
    "from sklearn.ensemble import RandomForestClassifier\n",
    "from sklearn.metrics import accuracy_score, classification_report, confusion_matrix\n",
    "\n",
    "# Initialize the Random Forest classifier\n",
    "rf = RandomForestClassifier(n_estimators=100, random_state=42)\n",
    "\n",
    "# Train the model on training data\n",
    "rf.fit(X_train, y_train)\n",
    "\n",
    "# Make predictions on validation and test data\n",
    "y_valid_pred = rf.predict(X_valid)\n",
    "y_test_pred = rf.predict(X_test)\n",
    "\n",
    "# Evaluate accuracy on validation set\n",
    "valid_acc = accuracy_score(y_valid, y_valid_pred)\n",
    "print(f\"Validation Accuracy: {valid_acc:.4f}\")\n",
    "\n",
    "# Evaluate accuracy on test set\n",
    "test_acc = accuracy_score(y_test, y_test_pred)\n",
    "print(f\"Test Accuracy: {test_acc:.4f}\")\n",
    "\n",
    "# Detailed classification report on test data\n",
    "print(\"\\nClassification Report on Test Data:\")\n",
    "print(classification_report(y_test, y_test_pred))\n",
    "\n",
    "# Confusion matrix on test data\n",
    "print(\"\\nConfusion Matrix on Test Data:\")\n",
    "print(confusion_matrix(y_test, y_test_pred))\n"
   ]
  },
  {
   "cell_type": "code",
   "execution_count": 58,
   "id": "be89ddc7",
   "metadata": {},
   "outputs": [
    {
     "name": "stdout",
     "output_type": "stream",
     "text": [
      "Test predictions sample:\n",
      "[1 1 1 1 0 1 1 1 1 0]\n"
     ]
    }
   ],
   "source": [
    "test_pred = rf.predict(X_test)\n",
    "print(\"Test predictions sample:\")\n",
    "print(test_pred[:10])\n"
   ]
  },
  {
   "cell_type": "code",
   "execution_count": 59,
   "id": "8b9c9f75",
   "metadata": {},
   "outputs": [
    {
     "name": "stdout",
     "output_type": "stream",
     "text": [
      "   Actual  Predicted\n",
      "0       1          1\n",
      "1       1          1\n",
      "2       1          1\n",
      "3       1          1\n",
      "4       1          0\n",
      "5       1          1\n",
      "6       1          1\n",
      "7       1          1\n",
      "8       1          1\n",
      "9       0          0\n"
     ]
    }
   ],
   "source": [
    "import pandas as pd\n",
    "\n",
    "# Predict on test data\n",
    "test_pred = rf.predict(X_test)\n",
    "\n",
    "# Create a DataFrame to compare actual and predicted labels\n",
    "comparison_df = pd.DataFrame({\n",
    "    'Actual': y_test,\n",
    "    'Predicted': test_pred\n",
    "})\n",
    "\n",
    "# Show first 10 rows\n",
    "print(comparison_df.head(10))\n"
   ]
  },
  {
   "cell_type": "code",
   "execution_count": 60,
   "id": "3433c52d",
   "metadata": {},
   "outputs": [
    {
     "name": "stdout",
     "output_type": "stream",
     "text": [
      "Validation Accuracy: 0.8838\n",
      "Test Accuracy: 0.8781\n",
      "\n",
      "Classification Report on Test Data:\n",
      "              precision    recall  f1-score   support\n",
      "\n",
      "           0       0.62      0.98      0.76      1655\n",
      "           1       1.00      0.85      0.92      6723\n",
      "\n",
      "    accuracy                           0.88      8378\n",
      "   macro avg       0.81      0.92      0.84      8378\n",
      "weighted avg       0.92      0.88      0.89      8378\n",
      "\n",
      "\n",
      "Confusion Matrix on Test Data:\n",
      "[[1628   27]\n",
      " [ 994 5729]]\n",
      "\n",
      "Actual vs Predicted labels (first 10):\n",
      "   Actual  Predicted\n",
      "0       1          1\n",
      "1       1          1\n",
      "2       1          1\n",
      "3       1          1\n",
      "4       1          0\n",
      "5       1          1\n",
      "6       1          1\n",
      "7       1          1\n",
      "8       1          1\n",
      "9       0          0\n"
     ]
    }
   ],
   "source": [
    "from sklearn.linear_model import LogisticRegression\n",
    "from sklearn.metrics import accuracy_score, classification_report, confusion_matrix\n",
    "\n",
    "# Initialize Logistic Regression\n",
    "log_reg = LogisticRegression(max_iter=1000, random_state=42)\n",
    "\n",
    "# Train the model\n",
    "log_reg.fit(X_train, y_train)\n",
    "\n",
    "# Predict on validation and test sets\n",
    "y_valid_pred = log_reg.predict(X_valid)\n",
    "y_test_pred = log_reg.predict(X_test)\n",
    "\n",
    "# Accuracy scores\n",
    "print(f\"Validation Accuracy: {accuracy_score(y_valid, y_valid_pred):.4f}\")\n",
    "print(f\"Test Accuracy: {accuracy_score(y_test, y_test_pred):.4f}\")\n",
    "\n",
    "# Classification report on test set\n",
    "print(\"\\nClassification Report on Test Data:\")\n",
    "print(classification_report(y_test, y_test_pred))\n",
    "\n",
    "# Confusion matrix on test set\n",
    "print(\"\\nConfusion Matrix on Test Data:\")\n",
    "print(confusion_matrix(y_test, y_test_pred))\n",
    "\n",
    "# Compare actual vs predicted for test data (first 10 samples)\n",
    "import pandas as pd\n",
    "comparison_df = pd.DataFrame({\n",
    "    'Actual': y_test,\n",
    "    'Predicted': y_test_pred\n",
    "})\n",
    "print(\"\\nActual vs Predicted labels (first 10):\")\n",
    "print(comparison_df.head(10))\n"
   ]
  },
  {
   "cell_type": "code",
   "execution_count": 61,
   "id": "17435143",
   "metadata": {},
   "outputs": [
    {
     "name": "stdout",
     "output_type": "stream",
     "text": [
      "SVM Test Accuracy: 0.9003\n"
     ]
    }
   ],
   "source": [
    "from sklearn.svm import LinearSVC\n",
    "\n",
    "svm = LinearSVC(random_state=42, max_iter=1000)\n",
    "svm.fit(X_train, y_train)\n",
    "\n",
    "y_test_pred = svm.predict(X_test)\n",
    "print(f\"SVM Test Accuracy: {accuracy_score(y_test, y_test_pred):.4f}\")\n"
   ]
  },
  {
   "cell_type": "code",
   "execution_count": null,
   "id": "5463f301",
   "metadata": {},
   "outputs": [],
   "source": []
  },
  {
   "cell_type": "code",
   "execution_count": 63,
   "id": "65babf00",
   "metadata": {},
   "outputs": [
    {
     "name": "stdout",
     "output_type": "stream",
     "text": [
      "\n",
      "=== Logistic Regression ===\n",
      "Validation Accuracy: 0.8838\n",
      "Test Accuracy: 0.8781\n",
      "\n",
      "Classification Report (Test):\n",
      "              precision    recall  f1-score   support\n",
      "\n",
      "           0       0.62      0.98      0.76      1655\n",
      "           1       1.00      0.85      0.92      6723\n",
      "\n",
      "    accuracy                           0.88      8378\n",
      "   macro avg       0.81      0.92      0.84      8378\n",
      "weighted avg       0.92      0.88      0.89      8378\n",
      "\n",
      "Confusion Matrix (Test):\n",
      "[[1628   27]\n",
      " [ 994 5729]]\n",
      "\n",
      "=== SVM (Linear Kernel) ===\n",
      "Validation Accuracy: 0.9064\n",
      "Test Accuracy: 0.8999\n",
      "\n",
      "Classification Report (Test):\n",
      "              precision    recall  f1-score   support\n",
      "\n",
      "           0       0.67      0.99      0.80      1655\n",
      "           1       1.00      0.88      0.93      6723\n",
      "\n",
      "    accuracy                           0.90      8378\n",
      "   macro avg       0.83      0.93      0.86      8378\n",
      "weighted avg       0.93      0.90      0.91      8378\n",
      "\n",
      "Confusion Matrix (Test):\n",
      "[[1634   21]\n",
      " [ 818 5905]]\n",
      "\n",
      "=== Random Forest ===\n",
      "Validation Accuracy: 0.7858\n",
      "Test Accuracy: 0.7841\n",
      "\n",
      "Classification Report (Test):\n",
      "              precision    recall  f1-score   support\n",
      "\n",
      "           0       0.48      0.98      0.64      1655\n",
      "           1       0.99      0.73      0.85      6723\n",
      "\n",
      "    accuracy                           0.78      8378\n",
      "   macro avg       0.74      0.86      0.74      8378\n",
      "weighted avg       0.89      0.78      0.81      8378\n",
      "\n",
      "Confusion Matrix (Test):\n",
      "[[1630   25]\n",
      " [1784 4939]]\n",
      "\n",
      "=== XGBoost ===\n",
      "Validation Accuracy: 0.8435\n",
      "Test Accuracy: 0.8390\n",
      "\n",
      "Classification Report (Test):\n",
      "              precision    recall  f1-score   support\n",
      "\n",
      "           0       0.55      0.99      0.71      1655\n",
      "           1       1.00      0.80      0.89      6723\n",
      "\n",
      "    accuracy                           0.84      8378\n",
      "   macro avg       0.77      0.89      0.80      8378\n",
      "weighted avg       0.91      0.84      0.85      8378\n",
      "\n",
      "Confusion Matrix (Test):\n",
      "[[1633   22]\n",
      " [1327 5396]]\n",
      "\n",
      "Actual vs Predicted Labels (Test Data) - first 10 samples:\n",
      "   Actual  Predicted_LogReg  Predicted_SVM  Predicted_RF  Predicted_XGB\n",
      "0       1                 1              1             1              1\n",
      "1       1                 1              1             1              1\n",
      "2       1                 1              1             1              1\n",
      "3       1                 1              1             1              1\n",
      "4       1                 0              1             0              0\n",
      "5       1                 1              1             1              1\n",
      "6       1                 1              1             1              1\n",
      "7       1                 1              1             1              1\n",
      "8       1                 1              1             1              1\n",
      "9       0                 0              0             0              0\n"
     ]
    }
   ],
   "source": [
    "from sklearn.linear_model import LogisticRegression\n",
    "from sklearn.svm import SVC\n",
    "from sklearn.ensemble import RandomForestClassifier\n",
    "from xgboost import XGBClassifier\n",
    "from sklearn.metrics import accuracy_score, classification_report, confusion_matrix\n",
    "import pandas as pd\n",
    "\n",
    "# Initialize models\n",
    "log_reg = LogisticRegression(max_iter=1000, random_state=42)\n",
    "svm = SVC(kernel='linear', random_state=42)\n",
    "rf = RandomForestClassifier(n_estimators=100, random_state=42)\n",
    "xgb = XGBClassifier(use_label_encoder=False, eval_metric='mlogloss', random_state=42)\n",
    "\n",
    "# Train models\n",
    "log_reg.fit(X_train, y_train)\n",
    "svm.fit(X_train, y_train)\n",
    "rf.fit(X_train, y_train)\n",
    "xgb.fit(X_train, y_train)\n",
    "\n",
    "# Predict on validation sets\n",
    "y_valid_pred_log = log_reg.predict(X_valid)\n",
    "y_valid_pred_svm = svm.predict(X_valid)\n",
    "y_valid_pred_rf = rf.predict(X_valid)\n",
    "y_valid_pred_xgb = xgb.predict(X_valid)\n",
    "\n",
    "# Predict on test sets\n",
    "y_test_pred_log = log_reg.predict(X_test)\n",
    "y_test_pred_svm = svm.predict(X_test)\n",
    "y_test_pred_rf = rf.predict(X_test)\n",
    "y_test_pred_xgb = xgb.predict(X_test)\n",
    "\n",
    "# Function to print evaluation metrics\n",
    "def evaluate_model(name, y_true_valid, y_pred_valid, y_true_test, y_pred_test):\n",
    "    print(f\"\\n=== {name} ===\")\n",
    "    print(f\"Validation Accuracy: {accuracy_score(y_true_valid, y_pred_valid):.4f}\")\n",
    "    print(f\"Test Accuracy: {accuracy_score(y_true_test, y_pred_test):.4f}\")\n",
    "    print(\"\\nClassification Report (Test):\")\n",
    "    print(classification_report(y_true_test, y_pred_test))\n",
    "    print(\"Confusion Matrix (Test):\")\n",
    "    print(confusion_matrix(y_true_test, y_pred_test))\n",
    "\n",
    "# Evaluate all models\n",
    "evaluate_model(\"Logistic Regression\", y_valid, y_valid_pred_log, y_test, y_test_pred_log)\n",
    "evaluate_model(\"SVM (Linear Kernel)\", y_valid, y_valid_pred_svm, y_test, y_test_pred_svm)\n",
    "evaluate_model(\"Random Forest\", y_valid, y_valid_pred_rf, y_test, y_test_pred_rf)\n",
    "evaluate_model(\"XGBoost\", y_valid, y_valid_pred_xgb, y_test, y_test_pred_xgb)\n",
    "\n",
    "# Example: Compare actual vs predicted on test data for Logistic Regression (first 10 samples)\n",
    "comparison_df = pd.DataFrame({\n",
    "    'Actual': y_test,\n",
    "    'Predicted_LogReg': y_test_pred_log,\n",
    "    'Predicted_SVM': y_test_pred_svm,\n",
    "    'Predicted_RF': y_test_pred_rf,\n",
    "    'Predicted_XGB': y_test_pred_xgb\n",
    "})\n",
    "print(\"\\nActual vs Predicted Labels (Test Data) - first 10 samples:\")\n",
    "print(comparison_df.head(10))\n"
   ]
  },
  {
   "cell_type": "code",
   "execution_count": null,
   "id": "0f2782b6",
   "metadata": {},
   "outputs": [],
   "source": []
  },
  {
   "cell_type": "code",
   "execution_count": null,
   "id": "080b57ec",
   "metadata": {},
   "outputs": [],
   "source": []
  },
  {
   "cell_type": "code",
   "execution_count": null,
   "id": "68b6f797",
   "metadata": {},
   "outputs": [],
   "source": []
  },
  {
   "cell_type": "code",
   "execution_count": null,
   "id": "e08a67dc",
   "metadata": {},
   "outputs": [],
   "source": []
  },
  {
   "cell_type": "code",
   "execution_count": null,
   "id": "cbe51b9e",
   "metadata": {},
   "outputs": [],
   "source": []
  }
 ],
 "metadata": {
  "kernelspec": {
   "display_name": "Python 3 (ipykernel)",
   "language": "python",
   "name": "python3"
  },
  "language_info": {
   "codemirror_mode": {
    "name": "ipython",
    "version": 3
   },
   "file_extension": ".py",
   "mimetype": "text/x-python",
   "name": "python",
   "nbconvert_exporter": "python",
   "pygments_lexer": "ipython3",
   "version": "3.10.9"
  }
 },
 "nbformat": 4,
 "nbformat_minor": 5
}
